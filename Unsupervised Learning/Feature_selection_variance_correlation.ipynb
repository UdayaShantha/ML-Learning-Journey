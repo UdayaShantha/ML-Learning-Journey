{
 "cells": [
  {
   "cell_type": "code",
   "execution_count": 2,
   "id": "51264757-fea8-4676-b56b-d5f0bae90e26",
   "metadata": {},
   "outputs": [
    {
     "data": {
      "text/html": [
       "<div>\n",
       "<style scoped>\n",
       "    .dataframe tbody tr th:only-of-type {\n",
       "        vertical-align: middle;\n",
       "    }\n",
       "\n",
       "    .dataframe tbody tr th {\n",
       "        vertical-align: top;\n",
       "    }\n",
       "\n",
       "    .dataframe thead th {\n",
       "        text-align: right;\n",
       "    }\n",
       "</style>\n",
       "<table border=\"1\" class=\"dataframe\">\n",
       "  <thead>\n",
       "    <tr style=\"text-align: right;\">\n",
       "      <th></th>\n",
       "      <th>Math</th>\n",
       "      <th>Chemistry</th>\n",
       "      <th>Maths</th>\n",
       "      <th>Physics</th>\n",
       "      <th>General_Test</th>\n",
       "    </tr>\n",
       "  </thead>\n",
       "  <tbody>\n",
       "    <tr>\n",
       "      <th>0</th>\n",
       "      <td>45</td>\n",
       "      <td>75</td>\n",
       "      <td>77</td>\n",
       "      <td>78</td>\n",
       "      <td>41</td>\n",
       "    </tr>\n",
       "    <tr>\n",
       "      <th>1</th>\n",
       "      <td>74</td>\n",
       "      <td>85</td>\n",
       "      <td>87</td>\n",
       "      <td>79</td>\n",
       "      <td>82</td>\n",
       "    </tr>\n",
       "    <tr>\n",
       "      <th>2</th>\n",
       "      <td>62</td>\n",
       "      <td>78</td>\n",
       "      <td>57</td>\n",
       "      <td>69</td>\n",
       "      <td>92</td>\n",
       "    </tr>\n",
       "    <tr>\n",
       "      <th>3</th>\n",
       "      <td>58</td>\n",
       "      <td>69</td>\n",
       "      <td>71</td>\n",
       "      <td>87</td>\n",
       "      <td>74</td>\n",
       "    </tr>\n",
       "    <tr>\n",
       "      <th>4</th>\n",
       "      <td>75</td>\n",
       "      <td>56</td>\n",
       "      <td>82</td>\n",
       "      <td>96</td>\n",
       "      <td>75</td>\n",
       "    </tr>\n",
       "  </tbody>\n",
       "</table>\n",
       "</div>"
      ],
      "text/plain": [
       "   Math  Chemistry  Maths  Physics  General_Test\n",
       "0    45         75     77       78            41\n",
       "1    74         85     87       79            82\n",
       "2    62         78     57       69            92\n",
       "3    58         69     71       87            74\n",
       "4    75         56     82       96            75"
      ]
     },
     "execution_count": 2,
     "metadata": {},
     "output_type": "execute_result"
    }
   ],
   "source": [
    "import pandas as pd\n",
    "data=pd.DataFrame({'Math':[45,74,62,58,75],\n",
    "                   'Chemistry':[75,85,78,69,56],\n",
    "                   'Maths':[77,87,57,71,82],\n",
    "                   'Physics':[78,79,69,87,96],\n",
    "                   'General_Test':[41,82,92,74,75]})\n",
    "data.head(5)"
   ]
  },
  {
   "cell_type": "code",
   "execution_count": 12,
   "id": "170f9ecc-4d28-4efb-8666-e881d10cb56a",
   "metadata": {},
   "outputs": [
    {
     "data": {
      "text/plain": [
       "array([[45, 77, 41],\n",
       "       [74, 87, 82],\n",
       "       [62, 57, 92],\n",
       "       [58, 71, 74],\n",
       "       [75, 82, 75]], dtype=int64)"
      ]
     },
     "execution_count": 12,
     "metadata": {},
     "output_type": "execute_result"
    }
   ],
   "source": [
    "#variance\n",
    "\n",
    "from sklearn.feature_selection import VarianceThreshold\n",
    "selector=VarianceThreshold(threshold=100)\n",
    "selected_features=selector.fit_transform(data)\n",
    "selected_features  # get the features where variance is not near to 100"
   ]
  },
  {
   "cell_type": "code",
   "execution_count": 13,
   "id": "c8ab6c6f-eb11-431a-b76f-964c39f2aaf1",
   "metadata": {},
   "outputs": [
    {
     "data": {
      "text/html": [
       "<div>\n",
       "<style scoped>\n",
       "    .dataframe tbody tr th:only-of-type {\n",
       "        vertical-align: middle;\n",
       "    }\n",
       "\n",
       "    .dataframe tbody tr th {\n",
       "        vertical-align: top;\n",
       "    }\n",
       "\n",
       "    .dataframe thead th {\n",
       "        text-align: right;\n",
       "    }\n",
       "</style>\n",
       "<table border=\"1\" class=\"dataframe\">\n",
       "  <thead>\n",
       "    <tr style=\"text-align: right;\">\n",
       "      <th></th>\n",
       "      <th>Math</th>\n",
       "      <th>Chemistry</th>\n",
       "      <th>Maths</th>\n",
       "      <th>Physics</th>\n",
       "      <th>General_Test</th>\n",
       "    </tr>\n",
       "  </thead>\n",
       "  <tbody>\n",
       "    <tr>\n",
       "      <th>Math</th>\n",
       "      <td>1.000000</td>\n",
       "      <td>-0.172437</td>\n",
       "      <td>0.379127</td>\n",
       "      <td>0.385747</td>\n",
       "      <td>0.709629</td>\n",
       "    </tr>\n",
       "    <tr>\n",
       "      <th>Chemistry</th>\n",
       "      <td>-0.172437</td>\n",
       "      <td>1.000000</td>\n",
       "      <td>-0.089701</td>\n",
       "      <td>-0.825790</td>\n",
       "      <td>0.120080</td>\n",
       "    </tr>\n",
       "    <tr>\n",
       "      <th>Maths</th>\n",
       "      <td>0.379127</td>\n",
       "      <td>-0.089701</td>\n",
       "      <td>1.000000</td>\n",
       "      <td>0.567525</td>\n",
       "      <td>-0.324348</td>\n",
       "    </tr>\n",
       "    <tr>\n",
       "      <th>Physics</th>\n",
       "      <td>0.385747</td>\n",
       "      <td>-0.825790</td>\n",
       "      <td>0.567525</td>\n",
       "      <td>1.000000</td>\n",
       "      <td>-0.144927</td>\n",
       "    </tr>\n",
       "    <tr>\n",
       "      <th>General_Test</th>\n",
       "      <td>0.709629</td>\n",
       "      <td>0.120080</td>\n",
       "      <td>-0.324348</td>\n",
       "      <td>-0.144927</td>\n",
       "      <td>1.000000</td>\n",
       "    </tr>\n",
       "  </tbody>\n",
       "</table>\n",
       "</div>"
      ],
      "text/plain": [
       "                  Math  Chemistry     Maths   Physics  General_Test\n",
       "Math          1.000000  -0.172437  0.379127  0.385747      0.709629\n",
       "Chemistry    -0.172437   1.000000 -0.089701 -0.825790      0.120080\n",
       "Maths         0.379127  -0.089701  1.000000  0.567525     -0.324348\n",
       "Physics       0.385747  -0.825790  0.567525  1.000000     -0.144927\n",
       "General_Test  0.709629   0.120080 -0.324348 -0.144927      1.000000"
      ]
     },
     "execution_count": 13,
     "metadata": {},
     "output_type": "execute_result"
    }
   ],
   "source": [
    "#Correlation\n",
    "\n",
    "import numpy as np\n",
    "import matplotlib.pyplot as plt\n",
    "import seaborn as sbn\n",
    "\n",
    "cor=data.corr()\n",
    "cor"
   ]
  },
  {
   "cell_type": "code",
   "execution_count": 16,
   "id": "608d6987-d114-4c55-b26e-8d46bf321664",
   "metadata": {},
   "outputs": [
    {
     "data": {
      "image/png": "[encoded data removed]",
      "text/plain": [
       "<Figure size 800x600 with 2 Axes>"
      ]
     },
     "metadata": {},
     "output_type": "display_data"
    }
   ],
   "source": [
    "plt.figure(figsize=(8,6))\n",
    "sbn.heatmap(cor,annot=True,cmap='Wistia')\n",
    "plt.show()"
   ]
  },
  {
   "cell_type": "code",
   "execution_count": null,
   "id": "527b3234-1608-4053-9a81-c9c1987ed7db",
   "metadata": {},
   "outputs": [],
   "source": []
  }
 ],
 "metadata": {
  "kernelspec": {
   "display_name": "Python 3 (ipykernel)",
   "language": "python",
   "name": "python3"
  },
  "language_info": {
   "codemirror_mode": {
    "name": "ipython",
    "version": 3
   },
   "file_extension": ".py",
   "mimetype": "text/x-python",
   "name": "python",
   "nbconvert_exporter": "python",
   "pygments_lexer": "ipython3",
   "version": "3.12.4"
  }
 },
 "nbformat": 4,
 "nbformat_minor": 5
}
