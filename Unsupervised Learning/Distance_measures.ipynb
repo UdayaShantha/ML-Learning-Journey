{
 "cells": [
  {
   "cell_type": "code",
   "execution_count": 1,
   "id": "19e3142a-279f-4242-ba0b-9736e29a91f7",
   "metadata": {},
   "outputs": [],
   "source": [
    "A=(5,3)\n",
    "B=(4,1)"
   ]
  },
  {
   "cell_type": "code",
   "execution_count": 2,
   "id": "027767d2-da37-48fb-bf41-4a6d865c35e4",
   "metadata": {},
   "outputs": [],
   "source": [
    "from scipy.spatial import distance"
   ]
  },
  {
   "cell_type": "code",
   "execution_count": 4,
   "id": "4ba1bc11-8a57-4d79-8c54-1881231465c6",
   "metadata": {},
   "outputs": [
    {
     "data": {
      "text/plain": [
       "2.23606797749979"
      ]
     },
     "execution_count": 4,
     "metadata": {},
     "output_type": "execute_result"
    }
   ],
   "source": [
    "# for Euclidean\n",
    "\n",
    "euclidean=distance.euclidean(A,B)\n",
    "euclidean"
   ]
  },
  {
   "cell_type": "code",
   "execution_count": 9,
   "id": "0a1b9b99-5b1c-4b65-9505-b5a8fa07e719",
   "metadata": {},
   "outputs": [
    {
     "data": {
      "text/plain": [
       "3"
      ]
     },
     "execution_count": 9,
     "metadata": {},
     "output_type": "execute_result"
    }
   ],
   "source": [
    "# for Manhattan \n",
    "\n",
    "manhattan=distance.cityblock(A,B)\n",
    "manhattan"
   ]
  },
  {
   "cell_type": "code",
   "execution_count": 10,
   "id": "3637b428-9301-458c-a9b9-1ffdb255df0d",
   "metadata": {},
   "outputs": [
    {
     "data": {
      "text/plain": [
       "0.04332611957114152"
      ]
     },
     "execution_count": 10,
     "metadata": {},
     "output_type": "execute_result"
    }
   ],
   "source": [
    "#for Cosine\n",
    "\n",
    "cosine=distance.cosine(A,B)\n",
    "cosine"
   ]
  }
 ],
 "metadata": {
  "kernelspec": {
   "display_name": "Python 3 (ipykernel)",
   "language": "python",
   "name": "python3"
  },
  "language_info": {
   "codemirror_mode": {
    "name": "ipython",
    "version": 3
   },
   "file_extension": ".py",
   "mimetype": "text/x-python",
   "name": "python",
   "nbconvert_exporter": "python",
   "pygments_lexer": "ipython3",
   "version": "3.12.4"
  }
 },
 "nbformat": 4,
 "nbformat_minor": 5
}
