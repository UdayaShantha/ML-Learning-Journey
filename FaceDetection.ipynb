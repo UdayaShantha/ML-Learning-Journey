{
 "cells": [
  {
   "cell_type": "code",
   "execution_count": 3,
   "id": "a65ab624-bdc7-451f-b601-2ad65963aa16",
   "metadata": {},
   "outputs": [],
   "source": [
    "import cv2 as cv"
   ]
  },
  {
   "cell_type": "code",
   "execution_count": 4,
   "id": "91851ca0-9610-475b-a9fb-da3250cde03f",
   "metadata": {},
   "outputs": [],
   "source": [
    "#Import CASCADE file with trained a model \n",
    "face=cv.CascadeClassifier(\"haarcascade_frontalface_default.xml\")"
   ]
  },
  {
   "cell_type": "code",
   "execution_count": 5,
   "id": "e2cae26f-5b59-4249-a38b-464149a70694",
   "metadata": {},
   "outputs": [],
   "source": [
    "img=cv.imread(\"Face_Recognition dataset/train/images/0000_1.jpg\")  #read tryed image for detect face"
   ]
  },
  {
   "cell_type": "code",
   "execution_count": 6,
   "id": "9a24c6bd-20e6-409c-8ed2-e79c6f90b4ee",
   "metadata": {},
   "outputs": [],
   "source": [
    "#Convert color image to Gray for analysing\n",
    "\n",
    "img_gray=cv.cvtColor(img,cv.COLOR_BGR2GRAY)"
   ]
  },
  {
   "cell_type": "code",
   "execution_count": 7,
   "id": "b51463e8-b253-4ca0-aa71-70515bf89f5d",
   "metadata": {},
   "outputs": [],
   "source": [
    "#Give image with face for detecting by cascade file\n",
    "\n",
    "detect=face.detectMultiScale(img_gray,1.1,4)"
   ]
  },
  {
   "cell_type": "code",
   "execution_count": 8,
   "id": "2447bbcb-6ccd-40a1-bda8-ac96cd52ee0f",
   "metadata": {},
   "outputs": [],
   "source": [
    "#create face bound\n",
    "\n",
    "for (x,y,w,h) in detect:\n",
    "    cv.rectangle(img,(x,y),(x+w,y+h),(0,255,0),2)"
   ]
  },
  {
   "cell_type": "code",
   "execution_count": 9,
   "id": "a12fd59f-068c-4f22-9e25-c97cfbbdd8a2",
   "metadata": {},
   "outputs": [],
   "source": [
    "if img is None:\n",
    "    print(\"Error: Image not found or failed to load!\")\n",
    "else:\n",
    "    cv.imshow(\"Face Detection\", img)\n",
    "    cv.waitKey(0)    #wait the showing image when user cut the image\n",
    "    cv.destroyAllWindows()"
   ]
  },
  {
   "cell_type": "code",
   "execution_count": 10,
   "id": "bf30e2b8-4e10-4956-988c-27e23151a5f3",
   "metadata": {},
   "outputs": [],
   "source": [
    "#By webcam detection"
   ]
  },
  {
   "cell_type": "code",
   "execution_count": 11,
   "id": "a0ab8e3b-5a69-4bd1-b910-2f4fa9036fb6",
   "metadata": {},
   "outputs": [],
   "source": [
    "webcam = cv.VideoCapture(0)  #0 is the id for webcam "
   ]
  },
  {
   "cell_type": "code",
   "execution_count": null,
   "id": "8f256033-91b5-4fea-a4a9-c4a27e627e8e",
   "metadata": {},
   "outputs": [],
   "source": [
    "while True:\n",
    "    success,frame=webcam.read()   #Read video frame by frame\n",
    "    gray=cv.cvtColor(frame,cv.COLOR_BGR2GRAY)\n",
    "    faces=face.detectMultiScale(gray,1.3,5)\n",
    "\n",
    "    for (x,y,w,h) in faces:\n",
    "        cv.rectangle(frame,(x,y),(x+w,y+h),(0,255,0),2)\n",
    "        cv.imshow(\"WebCam\",frame)   #showing video as frames\n",
    "        if cv.waitKey(1) & 0xFF==ord('s'):\n",
    "            break\n",
    "webcam.release()\n",
    "cv.destroyAllWindows()"
   ]
  },
  {
   "cell_type": "code",
   "execution_count": null,
   "id": "42114b0b-bb70-4d11-9744-3a374014455b",
   "metadata": {},
   "outputs": [],
   "source": []
  }
 ],
 "metadata": {
  "kernelspec": {
   "display_name": "Python 3 (ipykernel)",
   "language": "python",
   "name": "python3"
  },
  "language_info": {
   "codemirror_mode": {
    "name": "ipython",
    "version": 3
   },
   "file_extension": ".py",
   "mimetype": "text/x-python",
   "name": "python",
   "nbconvert_exporter": "python",
   "pygments_lexer": "ipython3",
   "version": "3.12.4"
  }
 },
 "nbformat": 4,
 "nbformat_minor": 5
}
