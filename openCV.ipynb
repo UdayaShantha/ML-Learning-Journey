{
 "cells": [
  {
   "cell_type": "code",
   "execution_count": 3,
   "id": "b622dbbc-9c5a-4dac-a010-af2d6ee73b1a",
   "metadata": {},
   "outputs": [
    {
     "name": "stdout",
     "output_type": "stream",
     "text": [
      "Requirement already satisfied: opencv-python in c:\\users\\user\\anaconda3\\lib\\site-packages (4.10.0.84)\n",
      "Requirement already satisfied: numpy>=1.21.2 in c:\\users\\user\\anaconda3\\lib\\site-packages (from opencv-python) (1.26.4)\n",
      "Note: you may need to restart the kernel to use updated packages.\n"
     ]
    }
   ],
   "source": [
    "pip install opencv-python"
   ]
  },
  {
   "cell_type": "code",
   "execution_count": 4,
   "id": "84fb0380-03b6-4487-a18b-d320d97695da",
   "metadata": {},
   "outputs": [],
   "source": [
    "import cv2 as cv    #import OpenCV as cv2"
   ]
  },
  {
   "cell_type": "code",
   "execution_count": 3,
   "id": "a8207fdc-c4ea-4956-8f32-021baff177ec",
   "metadata": {},
   "outputs": [],
   "source": [
    "img=cv.imread(\"Face_Recognition dataset/train/images/0000_0.jpg\")      #Read a image"
   ]
  },
  {
   "cell_type": "code",
   "execution_count": 4,
   "id": "edbedaec-6173-4995-925e-831b5c72babb",
   "metadata": {},
   "outputs": [],
   "source": [
    "if img is None:\n",
    "    print(\"Error: Image not found or failed to load!\")\n",
    "else:\n",
    "    cv.imshow(\"OpenCV_read_Image\", img)\n",
    "    cv.waitKey(0)    #wait the showing image when user cut the image\n",
    "    cv.destroyAllWindows()"
   ]
  },
  {
   "cell_type": "code",
   "execution_count": 5,
   "id": "70523724-555a-49f7-a41a-ab5d5e570671",
   "metadata": {},
   "outputs": [],
   "source": [
    "#For read a video"
   ]
  },
  {
   "cell_type": "code",
   "execution_count": 6,
   "id": "cc890c9c-142e-4f75-b66e-d2f611097e9f",
   "metadata": {},
   "outputs": [],
   "source": [
    "video=cv.VideoCapture(\"E:/Laptop_price_predictor/Laptop Price Predictor - Google Chrome 2024-12-26 23-57-20.mp4\")"
   ]
  },
  {
   "cell_type": "code",
   "execution_count": 7,
   "id": "8d9a9465-c4dc-439c-9ecc-3af565116344",
   "metadata": {},
   "outputs": [
    {
     "ename": "error",
     "evalue": "OpenCV(4.10.0) D:\\a\\opencv-python\\opencv-python\\opencv\\modules\\highgui\\src\\window.cpp:973: error: (-215:Assertion failed) size.width>0 && size.height>0 in function 'cv::imshow'\n",
     "output_type": "error",
     "traceback": [
      "\u001b[1;31m---------------------------------------------------------------------------\u001b[0m",
      "\u001b[1;31merror\u001b[0m                                     Traceback (most recent call last)",
      "Cell \u001b[1;32mIn[7], line 3\u001b[0m\n\u001b[0;32m      1\u001b[0m \u001b[38;5;28;01mwhile\u001b[39;00m \u001b[38;5;28;01mTrue\u001b[39;00m:\n\u001b[0;32m      2\u001b[0m     success,img\u001b[38;5;241m=\u001b[39mvideo\u001b[38;5;241m.\u001b[39mread()   \u001b[38;5;66;03m#Read video frame by frame\u001b[39;00m\n\u001b[1;32m----> 3\u001b[0m     cv\u001b[38;5;241m.\u001b[39mimshow(\u001b[38;5;124m\"\u001b[39m\u001b[38;5;124mVideo\u001b[39m\u001b[38;5;124m\"\u001b[39m,img)   \u001b[38;5;66;03m#showing video as frames\u001b[39;00m\n\u001b[0;32m      4\u001b[0m     \u001b[38;5;28;01mif\u001b[39;00m cv\u001b[38;5;241m.\u001b[39mwaitKey(\u001b[38;5;241m1\u001b[39m) \u001b[38;5;241m&\u001b[39m \u001b[38;5;241m0xFF\u001b[39m\u001b[38;5;241m==\u001b[39m\u001b[38;5;28mord\u001b[39m(\u001b[38;5;124m'\u001b[39m\u001b[38;5;124ms\u001b[39m\u001b[38;5;124m'\u001b[39m): \u001b[38;5;66;03m#when press s then close the opened video\u001b[39;00m\n\u001b[0;32m      5\u001b[0m         \u001b[38;5;28;01mbreak\u001b[39;00m\n",
      "\u001b[1;31merror\u001b[0m: OpenCV(4.10.0) D:\\a\\opencv-python\\opencv-python\\opencv\\modules\\highgui\\src\\window.cpp:973: error: (-215:Assertion failed) size.width>0 && size.height>0 in function 'cv::imshow'\n"
     ]
    }
   ],
   "source": [
    "while True:\n",
    "    success,img=video.read()   #Read video frame by frame\n",
    "    cv.imshow(\"Video\",img)   #showing video as frames\n",
    "    if cv.waitKey(1) & 0xFF==ord('s'): #when press s then close the opened video\n",
    "        break"
   ]
  },
  {
   "cell_type": "code",
   "execution_count": 5,
   "id": "aea1cd79-651a-4313-9395-bffdc1bbc8d5",
   "metadata": {},
   "outputs": [],
   "source": [
    "#Read webCam"
   ]
  },
  {
   "cell_type": "code",
   "execution_count": 6,
   "id": "141bf6d4-d5fa-41ab-8740-2d0037e014f1",
   "metadata": {},
   "outputs": [],
   "source": [
    "webcam=cv.VideoCapture(0)  #0 is the id for webcam \n",
    "while True:\n",
    "    success,img=webcam.read()   #Read video frame by frame\n",
    "    cv.imshow(\"Video\",img)   #showing video as frames\n",
    "    if cv.waitKey(1) & 0xFF==ord('s'):\n",
    "        break"
   ]
  },
  {
   "cell_type": "code",
   "execution_count": null,
   "id": "5f12eca2-020e-49ee-80dd-2efca40262f7",
   "metadata": {},
   "outputs": [],
   "source": []
  }
 ],
 "metadata": {
  "kernelspec": {
   "display_name": "Python 3 (ipykernel)",
   "language": "python",
   "name": "python3"
  },
  "language_info": {
   "codemirror_mode": {
    "name": "ipython",
    "version": 3
   },
   "file_extension": ".py",
   "mimetype": "text/x-python",
   "name": "python",
   "nbconvert_exporter": "python",
   "pygments_lexer": "ipython3",
   "version": "3.12.4"
  }
 },
 "nbformat": 4,
 "nbformat_minor": 5
}
