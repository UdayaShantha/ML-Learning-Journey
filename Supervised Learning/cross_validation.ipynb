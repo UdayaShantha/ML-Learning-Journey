{
 "cells": [
  {
   "cell_type": "code",
   "execution_count": 1,
   "id": "f3c5edee-9c63-4639-aefd-950ffcb9f4f0",
   "metadata": {},
   "outputs": [],
   "source": [
    "import pandas as pd\n",
    "import numpy as np"
   ]
  },
  {
   "cell_type": "code",
   "execution_count": 2,
   "id": "b7fde876-ebdb-4d1a-ab77-acd73c408053",
   "metadata": {},
   "outputs": [
    {
     "data": {
      "text/html": [
       "<div>\n",
       "<style scoped>\n",
       "    .dataframe tbody tr th:only-of-type {\n",
       "        vertical-align: middle;\n",
       "    }\n",
       "\n",
       "    .dataframe tbody tr th {\n",
       "        vertical-align: top;\n",
       "    }\n",
       "\n",
       "    .dataframe thead th {\n",
       "        text-align: right;\n",
       "    }\n",
       "</style>\n",
       "<table border=\"1\" class=\"dataframe\">\n",
       "  <thead>\n",
       "    <tr style=\"text-align: right;\">\n",
       "      <th></th>\n",
       "      <th>sepal_length</th>\n",
       "      <th>sepal_width</th>\n",
       "      <th>petal_length</th>\n",
       "      <th>petal_width</th>\n",
       "      <th>species</th>\n",
       "    </tr>\n",
       "  </thead>\n",
       "  <tbody>\n",
       "    <tr>\n",
       "      <th>0</th>\n",
       "      <td>5.498160</td>\n",
       "      <td>3.605079</td>\n",
       "      <td>1.618743</td>\n",
       "      <td>0.505444</td>\n",
       "      <td>virginica</td>\n",
       "    </tr>\n",
       "    <tr>\n",
       "      <th>1</th>\n",
       "      <td>7.802857</td>\n",
       "      <td>2.210350</td>\n",
       "      <td>6.415317</td>\n",
       "      <td>0.768617</td>\n",
       "      <td>versicolor</td>\n",
       "    </tr>\n",
       "    <tr>\n",
       "      <th>2</th>\n",
       "      <td>6.927976</td>\n",
       "      <td>2.404072</td>\n",
       "      <td>4.031514</td>\n",
       "      <td>0.524825</td>\n",
       "      <td>setosa</td>\n",
       "    </tr>\n",
       "    <tr>\n",
       "      <th>3</th>\n",
       "      <td>6.394634</td>\n",
       "      <td>4.246385</td>\n",
       "      <td>5.958745</td>\n",
       "      <td>0.312886</td>\n",
       "      <td>virginica</td>\n",
       "    </tr>\n",
       "    <tr>\n",
       "      <th>4</th>\n",
       "      <td>4.624075</td>\n",
       "      <td>3.516073</td>\n",
       "      <td>2.920298</td>\n",
       "      <td>0.389526</td>\n",
       "      <td>versicolor</td>\n",
       "    </tr>\n",
       "  </tbody>\n",
       "</table>\n",
       "</div>"
      ],
      "text/plain": [
       "   sepal_length  sepal_width  petal_length  petal_width     species\n",
       "0      5.498160     3.605079      1.618743     0.505444   virginica\n",
       "1      7.802857     2.210350      6.415317     0.768617  versicolor\n",
       "2      6.927976     2.404072      4.031514     0.524825      setosa\n",
       "3      6.394634     4.246385      5.958745     0.312886   virginica\n",
       "4      4.624075     3.516073      2.920298     0.389526  versicolor"
      ]
     },
     "execution_count": 2,
     "metadata": {},
     "output_type": "execute_result"
    }
   ],
   "source": [
    "data=pd.read_csv(\"iris_dataset_KNN.csv\")\n",
    "data.head(5)"
   ]
  },
  {
   "cell_type": "code",
   "execution_count": 7,
   "id": "1fafa98a-5ec5-43ff-a59c-25caf6008b0e",
   "metadata": {},
   "outputs": [],
   "source": [
    "x=data.drop('species',axis=1)\n",
    "y=data['species']"
   ]
  },
  {
   "cell_type": "code",
   "execution_count": 4,
   "id": "1cc9fffa-fbaa-47a9-ba8b-217345580c00",
   "metadata": {},
   "outputs": [],
   "source": [
    "#import cross validation library to grt mean acuuracy to the algorithms\n",
    "from sklearn.model_selection import cross_val_score \n"
   ]
  },
  {
   "cell_type": "code",
   "execution_count": 10,
   "id": "827276cd-47f6-4b8b-a7ed-59c1552a4eb4",
   "metadata": {},
   "outputs": [
    {
     "data": {
      "text/plain": [
       "0.30500000000000005"
      ]
     },
     "execution_count": 10,
     "metadata": {},
     "output_type": "execute_result"
    }
   ],
   "source": [
    "#for KNN\n",
    "from sklearn.neighbors import KNeighborsClassifier\n",
    "knn=KNeighborsClassifier(n_neighbors=5)  \n",
    "cross_val_score(knn,x,y,cv=5).mean()   #don't divide dataset into train & test \n",
    "                                    #cv means how many parts the whole data set is sub divided"
   ]
  },
  {
   "cell_type": "code",
   "execution_count": 13,
   "id": "d6312cdc-a931-4c67-98e7-32e1f47eef2b",
   "metadata": {},
   "outputs": [
    {
     "data": {
      "text/plain": [
       "0.26"
      ]
     },
     "execution_count": 13,
     "metadata": {},
     "output_type": "execute_result"
    }
   ],
   "source": [
    "#for Random forest\n",
    "from sklearn.ensemble import RandomForestClassifier\n",
    "rf=RandomForestClassifier(n_estimators=15)  \n",
    "cross_val_score(rf,x,y,cv=5).mean()"
   ]
  },
  {
   "cell_type": "code",
   "execution_count": 15,
   "id": "29abbcaf-2aba-4d10-b400-c88028bfe7b7",
   "metadata": {},
   "outputs": [
    {
     "data": {
      "text/plain": [
       "0.365"
      ]
     },
     "execution_count": 15,
     "metadata": {},
     "output_type": "execute_result"
    }
   ],
   "source": [
    "#for Naive bayes\n",
    "from sklearn.naive_bayes import GaussianNB\n",
    "nb=GaussianNB()  \n",
    "cross_val_score(nb,x,y,cv=5).mean()"
   ]
  },
  {
   "cell_type": "code",
   "execution_count": 18,
   "id": "20a4a3b1-eabe-49f9-aa25-efc6ef422f30",
   "metadata": {},
   "outputs": [
    {
     "data": {
      "text/plain": [
       "0.33999999999999997"
      ]
     },
     "execution_count": 18,
     "metadata": {},
     "output_type": "execute_result"
    }
   ],
   "source": [
    "#for SVM\n",
    "from sklearn.svm import SVC\n",
    "svm=SVC()  \n",
    "cross_val_score(svm,x,y,cv=5).mean()"
   ]
  },
  {
   "cell_type": "code",
   "execution_count": null,
   "id": "0a1a964f-8e19-4398-b4c7-d0dc6c4235c2",
   "metadata": {},
   "outputs": [],
   "source": []
  }
 ],
 "metadata": {
  "kernelspec": {
   "display_name": "Python 3 (ipykernel)",
   "language": "python",
   "name": "python3"
  },
  "language_info": {
   "codemirror_mode": {
    "name": "ipython",
    "version": 3
   },
   "file_extension": ".py",
   "mimetype": "text/x-python",
   "name": "python",
   "nbconvert_exporter": "python",
   "pygments_lexer": "ipython3",
   "version": "3.12.4"
  }
 },
 "nbformat": 4,
 "nbformat_minor": 5
}
