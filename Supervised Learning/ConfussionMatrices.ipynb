{
 "cells": [
  {
   "cell_type": "code",
   "execution_count": 2,
   "id": "561ef359-c4f9-437b-bf4f-d9f6b5a892e4",
   "metadata": {},
   "outputs": [],
   "source": [
    "actual=[1,1,0,0,1,0,1,1,0,1,0,0,0,1]\n",
    "predicted=[1,0,1,1,1,1,0,1,0,1,1,1,0,0]"
   ]
  },
  {
   "cell_type": "code",
   "execution_count": 5,
   "id": "2d39c720-a4d2-4e89-a9e6-6758130e8b9e",
   "metadata": {},
   "outputs": [
    {
     "data": {
      "text/plain": [
       "0.42857142857142855"
      ]
     },
     "execution_count": 5,
     "metadata": {},
     "output_type": "execute_result"
    }
   ],
   "source": [
    "from sklearn.metrics import accuracy_score\n",
    "accuracy_score(actual,predicted) #get the accuary of predicted values"
   ]
  },
  {
   "cell_type": "code",
   "execution_count": 10,
   "id": "4f7d2b50-f809-4bcf-8650-18b0b567e846",
   "metadata": {},
   "outputs": [
    {
     "data": {
      "text/plain": [
       "array([[2, 5],\n",
       "       [3, 4]], dtype=int64)"
      ]
     },
     "execution_count": 10,
     "metadata": {},
     "output_type": "execute_result"
    }
   ],
   "source": [
    "from sklearn.metrics import confusion_matrix\n",
    "confusion_matrix(actual,predicted) #create the confusion matrix accoirding to the predicted values\n",
    "\n",
    "\n",
    "                                   #TP  FP\n",
    "                                   #FN  TN"
   ]
  },
  {
   "cell_type": "code",
   "execution_count": 13,
   "id": "31876dfc-0a47-45f2-bbda-d08f4b37110f",
   "metadata": {},
   "outputs": [
    {
     "data": {
      "text/html": [
       "<div>\n",
       "<style scoped>\n",
       "    .dataframe tbody tr th:only-of-type {\n",
       "        vertical-align: middle;\n",
       "    }\n",
       "\n",
       "    .dataframe tbody tr th {\n",
       "        vertical-align: top;\n",
       "    }\n",
       "\n",
       "    .dataframe thead th {\n",
       "        text-align: right;\n",
       "    }\n",
       "</style>\n",
       "<table border=\"1\" class=\"dataframe\">\n",
       "  <thead>\n",
       "    <tr style=\"text-align: right;\">\n",
       "      <th></th>\n",
       "      <th>0</th>\n",
       "      <th>1</th>\n",
       "      <th>accuracy</th>\n",
       "      <th>macro avg</th>\n",
       "      <th>weighted avg</th>\n",
       "    </tr>\n",
       "  </thead>\n",
       "  <tbody>\n",
       "    <tr>\n",
       "      <th>precision</th>\n",
       "      <td>0.400000</td>\n",
       "      <td>0.444444</td>\n",
       "      <td>0.428571</td>\n",
       "      <td>0.422222</td>\n",
       "      <td>0.422222</td>\n",
       "    </tr>\n",
       "    <tr>\n",
       "      <th>recall</th>\n",
       "      <td>0.285714</td>\n",
       "      <td>0.571429</td>\n",
       "      <td>0.428571</td>\n",
       "      <td>0.428571</td>\n",
       "      <td>0.428571</td>\n",
       "    </tr>\n",
       "    <tr>\n",
       "      <th>f1-score</th>\n",
       "      <td>0.333333</td>\n",
       "      <td>0.500000</td>\n",
       "      <td>0.428571</td>\n",
       "      <td>0.416667</td>\n",
       "      <td>0.416667</td>\n",
       "    </tr>\n",
       "    <tr>\n",
       "      <th>support</th>\n",
       "      <td>7.000000</td>\n",
       "      <td>7.000000</td>\n",
       "      <td>0.428571</td>\n",
       "      <td>14.000000</td>\n",
       "      <td>14.000000</td>\n",
       "    </tr>\n",
       "  </tbody>\n",
       "</table>\n",
       "</div>"
      ],
      "text/plain": [
       "                  0         1  accuracy  macro avg  weighted avg\n",
       "precision  0.400000  0.444444  0.428571   0.422222      0.422222\n",
       "recall     0.285714  0.571429  0.428571   0.428571      0.428571\n",
       "f1-score   0.333333  0.500000  0.428571   0.416667      0.416667\n",
       "support    7.000000  7.000000  0.428571  14.000000     14.000000"
      ]
     },
     "execution_count": 13,
     "metadata": {},
     "output_type": "execute_result"
    }
   ],
   "source": [
    "import pandas as pd\n",
    "from sklearn.metrics import classification_report\n",
    "file=pd.DataFrame(classification_report(actual,predicted,output_dict=True))\n",
    "file #generate report about the accuracy with precission,re"
   ]
  },
  {
   "cell_type": "code",
   "execution_count": null,
   "id": "0c7ae678-d030-49c8-a1d0-63e9bb067773",
   "metadata": {},
   "outputs": [],
   "source": []
  }
 ],
 "metadata": {
  "kernelspec": {
   "display_name": "Python 3 (ipykernel)",
   "language": "python",
   "name": "python3"
  },
  "language_info": {
   "codemirror_mode": {
    "name": "ipython",
    "version": 3
   },
   "file_extension": ".py",
   "mimetype": "text/x-python",
   "name": "python",
   "nbconvert_exporter": "python",
   "pygments_lexer": "ipython3",
   "version": "3.12.4"
  }
 },
 "nbformat": 4,
 "nbformat_minor": 5
}
