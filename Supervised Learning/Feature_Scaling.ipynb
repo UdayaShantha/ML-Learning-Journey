{
 "cells": [
  {
   "cell_type": "code",
   "execution_count": 1,
   "id": "66973e83-fbad-44e4-89d0-2b6f7a9c50f9",
   "metadata": {},
   "outputs": [],
   "source": [
    "import numpy as np\n",
    "data=np.array([[35,145000],[30,65000],[33,45500],[28,40000],[42,90000 #create dataset to scale"
   ]
  },
  {
   "cell_type": "code",
   "execution_count": 3,
   "id": "b031edff-5c45-4881-8c97-41602069b8a1",
   "metadata": {},
   "outputs": [
    {
     "data": {
      "text/plain": [
       "array([[0.5       , 1.        ],\n",
       "       [0.14285714, 0.23809524],\n",
       "       [0.35714286, 0.05238095],\n",
       "       [0.        , 0.        ],\n",
       "       [1.        , 0.47619048]])"
      ]
     },
     "execution_count": 3,
     "metadata": {},
     "output_type": "execute_result"
    }
   ],
   "source": [
    "from sklearn.preprocessing import MinMaxScaler\n",
    "normalize=MinMaxScaler()\n",
    "scaled_with_normalize=normalize.fit_transform(data)\n",
    "scaled_with_normalize    #scaling data set with using normalization then get the date set into 0-1 rage"
   ]
  },
  {
   "cell_type": "code",
   "execution_count": 5,
   "id": "84dc6730-1625-4dfc-8513-29fa65a045e4",
   "metadata": {},
   "outputs": [
    {
     "data": {
      "text/plain": [
       "array([[ 0.28916733,  1.77724334],\n",
       "       [-0.74357315, -0.31671052],\n",
       "       [-0.12392886, -0.82711178],\n",
       "       [-1.15666934, -0.9710711 ],\n",
       "       [ 1.73500401,  0.33765006]])"
      ]
     },
     "execution_count": 5,
     "metadata": {},
     "output_type": "execute_result"
    }
   ],
   "source": [
    "from sklearn.preprocessing import StandardScaler\n",
    "standardize=StandardScaler()\n",
    "scaled_with_standard=standardize.fit_transform(data)\n",
    "scaled_with_standard           #scale dataset using standardization then get them into - and + range"
   ]
  },
  {
   "cell_type": "code",
   "execution_count": null,
   "id": "5b01c73f-2d73-4ae1-9b60-665a514140c5",
   "metadata": {},
   "outputs": [],
   "source": []
  }
 ],
 "metadata": {
  "kernelspec": {
   "display_name": "Python 3 (ipykernel)",
   "language": "python",
   "name": "python3"
  },
  "language_info": {
   "codemirror_mode": {
    "name": "ipython",
    "version": 3
   },
   "file_extension": ".py",
   "mimetype": "text/x-python",
   "name": "python",
   "nbconvert_exporter": "python",
   "pygments_lexer": "ipython3",
   "version": "3.12.4"
  }
 },
 "nbformat": 4,
 "nbformat_minor": 5
}
